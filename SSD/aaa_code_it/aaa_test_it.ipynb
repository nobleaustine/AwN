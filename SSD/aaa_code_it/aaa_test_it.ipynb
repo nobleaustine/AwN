{
 "cells": [
  {
   "cell_type": "markdown",
   "metadata": {},
   "source": [
    "understanding nn.linear"
   ]
  },
  {
   "cell_type": "code",
   "execution_count": 3,
   "metadata": {},
   "outputs": [
    {
     "name": "stdout",
     "output_type": "stream",
     "text": [
      "0.02218770980834961 <class 'float'>\n"
     ]
    }
   ],
   "source": [
    "import time\n",
    "from turtle import end_fill\n",
    "def is_prime(n):\n",
    "    if n == 2:\n",
    "        return True\n",
    "    if n < 2 or n % 2 == 0:\n",
    "        return False\n",
    "    for i in range(3, int(n ** 0.5) + 1, 2):\n",
    "        if n % i == 0:\n",
    "            return False\n",
    "    return True\n",
    "start = time.time()\n",
    "a = is_prime(100000000003)\n",
    "end = time.time()\n",
    "print(end- start,type(end -start))"
   ]
  },
  {
   "cell_type": "code",
   "execution_count": null,
   "metadata": {},
   "outputs": [],
   "source": []
  },
  {
   "cell_type": "code",
   "execution_count": 8,
   "metadata": {},
   "outputs": [
    {
     "ename": "NameError",
     "evalue": "name '_C' is not defined",
     "output_type": "error",
     "traceback": [
      "\u001b[0;31m---------------------------------------------------------------------------\u001b[0m",
      "\u001b[0;31mNameError\u001b[0m                                 Traceback (most recent call last)",
      "Cell \u001b[0;32mIn[8], line 1\u001b[0m\n\u001b[0;32m----> 1\u001b[0m \u001b[38;5;28;01mimport\u001b[39;00m \u001b[38;5;21;01mtorch\u001b[39;00m\n\u001b[1;32m      2\u001b[0m \u001b[38;5;28;01mimport\u001b[39;00m \u001b[38;5;21;01mtorch\u001b[39;00m\u001b[38;5;21;01m.\u001b[39;00m\u001b[38;5;21;01mnn\u001b[39;00m \u001b[38;5;28;01mas\u001b[39;00m \u001b[38;5;21;01mnn\u001b[39;00m\n\u001b[1;32m      3\u001b[0m in_dim,out_dim \u001b[38;5;241m=\u001b[39m \u001b[38;5;241m3\u001b[39m,\u001b[38;5;241m4\u001b[39m\n",
      "File \u001b[0;32m~/.local/lib/python3.8/site-packages/torch/__init__.py:249\u001b[0m\n\u001b[1;32m    235\u001b[0m         \u001b[38;5;28;01mraise\u001b[39;00m \u001b[38;5;167;01mImportError\u001b[39;00m(textwrap\u001b[38;5;241m.\u001b[39mdedent(\u001b[38;5;124m'''\u001b[39m\n\u001b[1;32m    236\u001b[0m \u001b[38;5;124m            Failed to load PyTorch C extensions:\u001b[39m\n\u001b[1;32m    237\u001b[0m \u001b[38;5;124m                It appears that PyTorch has loaded the `torch/_C` folder\u001b[39m\n\u001b[0;32m   (...)\u001b[0m\n\u001b[1;32m    245\u001b[0m \u001b[38;5;124m                or by running Python from a different directory.\u001b[39m\n\u001b[1;32m    246\u001b[0m \u001b[38;5;124m            \u001b[39m\u001b[38;5;124m'''\u001b[39m)\u001b[38;5;241m.\u001b[39mstrip()) \u001b[38;5;28;01mfrom\u001b[39;00m \u001b[38;5;28;01mNone\u001b[39;00m\n\u001b[1;32m    247\u001b[0m     \u001b[38;5;28;01mraise\u001b[39;00m  \u001b[38;5;66;03m# If __file__ is not None the cause is unknown, so just re-raise.\u001b[39;00m\n\u001b[0;32m--> 249\u001b[0m \u001b[38;5;28;01mfor\u001b[39;00m name \u001b[38;5;129;01min\u001b[39;00m \u001b[38;5;28mdir\u001b[39m(\u001b[43m_C\u001b[49m):\n\u001b[1;32m    250\u001b[0m     \u001b[38;5;28;01mif\u001b[39;00m name[\u001b[38;5;241m0\u001b[39m] \u001b[38;5;241m!=\u001b[39m \u001b[38;5;124m'\u001b[39m\u001b[38;5;124m_\u001b[39m\u001b[38;5;124m'\u001b[39m \u001b[38;5;129;01mand\u001b[39;00m \u001b[38;5;129;01mnot\u001b[39;00m name\u001b[38;5;241m.\u001b[39mendswith(\u001b[38;5;124m'\u001b[39m\u001b[38;5;124mBase\u001b[39m\u001b[38;5;124m'\u001b[39m):\n\u001b[1;32m    251\u001b[0m         __all__\u001b[38;5;241m.\u001b[39mappend(name)\n",
      "\u001b[0;31mNameError\u001b[0m: name '_C' is not defined"
     ]
    }
   ],
   "source": [
    "import torch\n",
    "import torch.nn as nn\n",
    "in_dim,out_dim = 3,4\n",
    "x = torch.ones(2,1,5,3)\n",
    "\n",
    "\n",
    "linear = nn.Linear(in_dim,out_dim,bias=True)\n",
    "\n",
    "print(\"x: \",x)\n",
    "print(\"\\np: \",list(linear.parameters()))\n",
    "print(\"\\nw@x: \",linear(x))"
   ]
  },
  {
   "cell_type": "code",
   "execution_count": 6,
   "metadata": {},
   "outputs": [
    {
     "name": "stdout",
     "output_type": "stream",
     "text": [
      "tensor([[[ 0.1362,  0.3859,  1.0634,  0.7680],\n",
      "         [ 1.8667, -0.7687, -0.2470, -0.6673],\n",
      "         [-0.0383, -0.2510, -0.6194,  1.1227]],\n",
      "\n",
      "        [[-3.4334,  1.2783,  0.0611,  0.2576],\n",
      "         [-0.2005, -0.3494,  0.1907, -1.7588],\n",
      "         [-0.4214, -0.2687, -0.1559, -0.3147]]])\n",
      "tensor([[[ 1.8667, -0.7687, -0.2470, -0.6673]],\n",
      "\n",
      "        [[-0.2005, -0.3494,  0.1907, -1.7588]]])\n"
     ]
    }
   ],
   "source": [
    "import torch\n",
    "import torch.nn as nn\n",
    "\n",
    "a = torch.randn(2,3,4)\n",
    "print(a)\n",
    "print(a[:,1:2,:])"
   ]
  },
  {
   "cell_type": "code",
   "execution_count": 1,
   "metadata": {},
   "outputs": [
    {
     "name": "stdout",
     "output_type": "stream",
     "text": [
      "{'Attention(Module)': {'constructor_arguments': {'p_or_not': False, 'norm_layer': <_ast.Name object at 0x7f052c3c5280>, 'proj_drop': 0.0, 'attn_drop': 0.0, 'qk_norm': False, 'qkv_bias': False, 'num_heads': 8, 'dim': None}, 'class_attributes': ['num_heads', 'head_dim', 'scale', 'fused_attn', 'p_or_not', 'qkv', 'q_norm', 'k_norm', 'attn_drop', 'proj', 'proj_drop'], 'class_methods': {'forward': {'arguments': {'x': None}, 'returns': ['x']}}}, 'CrossAttention(Module)': {'constructor_arguments': {'norm_layer': <_ast.Name object at 0x7f052c2a03d0>, 'proj_drop': 0.0, 'attn_drop': 0.0, 'qk_norm': False, 'qkv_bias': False, 'num_heads': 8, 'dim': None}, 'class_attributes': ['num_heads', 'head_dim', 'scale', 'fused_attn', 'kv', 'q', 'q_norm', 'k_norm', 'attn_drop', 'proj', 'proj_drop'], 'class_methods': {'forward': {'arguments': {'y': None, 'x': None}, 'returns': ['x']}}}}\n"
     ]
    }
   ],
   "source": [
    "path = '/cluster/home/austinen/NTNU/SSD/DiT/layers/attention.py'\n",
    "\n",
    "from abstract import get_yaml\n",
    "\n",
    "get_yaml(path,\"/cluster/home/austinen/NTNU/SSD/DiT/config/attention.yaml\")\n",
    "\n",
    "\n"
   ]
  },
  {
   "cell_type": "code",
   "execution_count": 3,
   "metadata": {},
   "outputs": [
    {
     "name": "stdout",
     "output_type": "stream",
     "text": [
      "tensor([[[[ 0.5812,  1.4212],\n",
      "          [-0.9178,  0.9555],\n",
      "          [ 0.7901, -0.6107]],\n",
      "\n",
      "         [[ 0.7746, -0.3878],\n",
      "          [ 1.0879, -0.1577],\n",
      "          [ 1.9481, -0.2370]],\n",
      "\n",
      "         [[-0.4568,  2.5339],\n",
      "          [ 1.2303,  0.9501],\n",
      "          [-1.3423,  0.9790]]],\n",
      "\n",
      "\n",
      "        [[[-0.4792,  0.2923],\n",
      "          [ 0.4718,  1.1099],\n",
      "          [ 1.8913,  0.6545]],\n",
      "\n",
      "         [[-0.2881, -2.2775],\n",
      "          [-0.9117,  0.4905],\n",
      "          [-0.6023, -0.1079]],\n",
      "\n",
      "         [[ 0.2644,  0.8759],\n",
      "          [ 0.1166,  0.6970],\n",
      "          [-2.6839, -1.0350]]]])\n",
      "tensor([[[[ 0.5812, -0.9178,  0.7901],\n",
      "          [ 0.7746,  1.0879,  1.9481],\n",
      "          [-0.4568,  1.2303, -1.3423]],\n",
      "\n",
      "         [[ 1.4212,  0.9555, -0.6107],\n",
      "          [-0.3878, -0.1577, -0.2370],\n",
      "          [ 2.5339,  0.9501,  0.9790]]],\n",
      "\n",
      "\n",
      "        [[[-0.4792,  0.4718,  1.8913],\n",
      "          [-0.2881, -0.9117, -0.6023],\n",
      "          [ 0.2644,  0.1166, -2.6839]],\n",
      "\n",
      "         [[ 0.2923,  1.1099,  0.6545],\n",
      "          [-2.2775,  0.4905, -0.1079],\n",
      "          [ 0.8759,  0.6970, -1.0350]]]])\n",
      "torch.Size([2, 2, 3, 3])\n"
     ]
    }
   ],
   "source": [
    "import torch\n",
    "from einops import rearrange\n",
    "\n",
    "tensor = torch.randn(2, 3, 3, 2)  # Shape: (batch, height, width, channels)\n",
    "rearranged_tensor = rearrange(tensor, 'b h w c -> b c h w')\n",
    "print(tensor)\n",
    "print(rearranged_tensor)\n",
    "print(rearranged_tensor.shape)  # Output: torch.Size([32, 3, 64, 64])\n"
   ]
  },
  {
   "cell_type": "code",
   "execution_count": 4,
   "metadata": {},
   "outputs": [
    {
     "data": {
      "text/plain": [
       "torch.Size([2, 2, 3, 3])"
      ]
     },
     "execution_count": 4,
     "metadata": {},
     "output_type": "execute_result"
    }
   ],
   "source": [
    "from einops import rearrange\n",
    "\n",
    "a = torch.rand(2,3,3,2)\n",
    "b = rearrange(a,'b h w c -> b c h w')\n",
    "b.shape"
   ]
  },
  {
   "cell_type": "code",
   "execution_count": 2,
   "metadata": {},
   "outputs": [
    {
     "data": {
      "text/plain": [
       "(tensor([0, 1, 2, 3, 4]),\n",
       " tensor([[ 0.0000,  0.0000,  0.0000,  ...,  1.0000,  1.0000,  1.0000],\n",
       "         [ 0.8415,  0.8314,  0.8213,  ...,  1.0000,  1.0000,  1.0000],\n",
       "         [ 0.9093,  0.9239,  0.9370,  ...,  1.0000,  1.0000,  1.0000],\n",
       "         [ 0.1411,  0.1952,  0.2477,  ...,  1.0000,  1.0000,  1.0000],\n",
       "         [-0.7568, -0.7070, -0.6544,  ...,  1.0000,  1.0000,  1.0000]]))"
      ]
     },
     "execution_count": 2,
     "metadata": {},
     "output_type": "execute_result"
    }
   ],
   "source": [
    "import math\n",
    "import torch\n",
    "def get_timestep_embedding(timesteps, embedding_dim):\n",
    "    \"\"\"\n",
    "    This matches the implementation in Denoising Diffusion Probabilistic Models:\n",
    "    From Fairseq.\n",
    "    Build sinusoidal embeddings.\n",
    "    This matches the implementation in tensor2tensor, but differs slightly\n",
    "    from the description in Section 3.5 of \"Attention Is All You Need\".\n",
    "    \"\"\"\n",
    "    assert len(timesteps.shape) == 1\n",
    "\n",
    "    half_dim = embedding_dim // 2\n",
    "    emb = math.log(10000) / (half_dim - 1)\n",
    "    emb = torch.exp(torch.arange(half_dim, dtype=torch.float32) * -emb)\n",
    "    emb = emb.to(device=timesteps.device)\n",
    "    emb = timesteps.float()[:, None] * emb[None, :]\n",
    "    emb = torch.cat([torch.sin(emb), torch.cos(emb)], dim=1)\n",
    "    if embedding_dim % 2 == 1:  # zero pad\n",
    "        emb = torch.nn.functional.pad(emb, (0,1,0,0))\n",
    "    return emb\n",
    "\n",
    "t = torch.tensor([a for a in range(0,5)])\n",
    "\n",
    "m = get_timestep_embedding(t,1000)\n",
    "t,m"
   ]
  },
  {
   "cell_type": "code",
   "execution_count": 1,
   "metadata": {},
   "outputs": [
    {
     "data": {
      "text/plain": [
       "(3,)"
      ]
     },
     "execution_count": 1,
     "metadata": {},
     "output_type": "execute_result"
    }
   ],
   "source": [
    "import numpy as np\n",
    "\n",
    "a = np.array([1,2,3])\n",
    "a.shape\n"
   ]
  },
  {
   "cell_type": "code",
   "execution_count": 6,
   "metadata": {},
   "outputs": [
    {
     "name": "stdout",
     "output_type": "stream",
     "text": [
      "betas: [0.1 0.2 0.3 0.4]\n",
      "alphas_cumprod_prev: [0.9 0.8 0.7 0.6]\n",
      "alphas_cumprod: [0.95 0.85 0.75 0.65]\n",
      "posterior_variance: [0.2        0.26666667 0.36       0.45714286]\n"
     ]
    }
   ],
   "source": [
    "import numpy as np\n",
    "\n",
    "# Example values\n",
    "betas = np.array([0.1, 0.2, 0.3, 0.4])\n",
    "alphas_cumprod_prev = np.array([0.9, 0.8, 0.7, 0.6])\n",
    "alphas_cumprod = np.array([0.95, 0.85, 0.75, 0.65])\n",
    "\n",
    "# Calculate posterior variance\n",
    "posterior_variance = ((betas * (1.0 - alphas_cumprod_prev))/ (1.0 - alphas_cumprod))\n",
    "\n",
    "print(\"betas:\", betas)\n",
    "print(\"alphas_cumprod_prev:\", alphas_cumprod_prev)\n",
    "print(\"alphas_cumprod:\", alphas_cumprod)\n",
    "print(\"posterior_variance:\", posterior_variance)"
   ]
  },
  {
   "cell_type": "markdown",
   "metadata": {},
   "source": [
    "code decoding"
   ]
  },
  {
   "cell_type": "code",
   "execution_count": 5,
   "metadata": {},
   "outputs": [
    {
     "data": {
      "text/plain": [
       "(tensor([[[1., 2., 3.]],\n",
       " \n",
       "         [[1., 2., 3.]],\n",
       " \n",
       "         [[1., 2., 3.]],\n",
       " \n",
       "         [[4., 5., 6.]],\n",
       " \n",
       "         [[4., 5., 6.]],\n",
       " \n",
       "         [[4., 5., 6.]]]),\n",
       " tensor([2., 2., 2., 5., 5., 5.]))"
      ]
     },
     "execution_count": 5,
     "metadata": {},
     "output_type": "execute_result"
    }
   ],
   "source": [
    "# gaussian_diffusion\n",
    "import torch\n",
    "tensor = torch.tensor([[[1,2,3]],[[1,2,3]],[[1,2,3]],[[4,5,6]],[[4,5,6]],[[4,5,6]]],dtype=torch.float)\n",
    "mean = tensor.mean(dim=list(range(1, len(tensor.shape))))\n",
    "tensor,mean"
   ]
  },
  {
   "cell_type": "code",
   "execution_count": 9,
   "metadata": {},
   "outputs": [
    {
     "ename": "NameError",
     "evalue": "name '_C' is not defined",
     "output_type": "error",
     "traceback": [
      "\u001b[0;31m---------------------------------------------------------------------------\u001b[0m",
      "\u001b[0;31mNameError\u001b[0m                                 Traceback (most recent call last)",
      "Cell \u001b[0;32mIn[9], line 1\u001b[0m\n\u001b[0;32m----> 1\u001b[0m \u001b[38;5;28;01mimport\u001b[39;00m \u001b[38;5;21;01mtorch\u001b[39;00m\n",
      "File \u001b[0;32m~/.local/lib/python3.8/site-packages/torch/__init__.py:249\u001b[0m\n\u001b[1;32m    235\u001b[0m         \u001b[38;5;28;01mraise\u001b[39;00m \u001b[38;5;167;01mImportError\u001b[39;00m(textwrap\u001b[38;5;241m.\u001b[39mdedent(\u001b[38;5;124m'''\u001b[39m\n\u001b[1;32m    236\u001b[0m \u001b[38;5;124m            Failed to load PyTorch C extensions:\u001b[39m\n\u001b[1;32m    237\u001b[0m \u001b[38;5;124m                It appears that PyTorch has loaded the `torch/_C` folder\u001b[39m\n\u001b[0;32m   (...)\u001b[0m\n\u001b[1;32m    245\u001b[0m \u001b[38;5;124m                or by running Python from a different directory.\u001b[39m\n\u001b[1;32m    246\u001b[0m \u001b[38;5;124m            \u001b[39m\u001b[38;5;124m'''\u001b[39m)\u001b[38;5;241m.\u001b[39mstrip()) \u001b[38;5;28;01mfrom\u001b[39;00m \u001b[38;5;28;01mNone\u001b[39;00m\n\u001b[1;32m    247\u001b[0m     \u001b[38;5;28;01mraise\u001b[39;00m  \u001b[38;5;66;03m# If __file__ is not None the cause is unknown, so just re-raise.\u001b[39;00m\n\u001b[0;32m--> 249\u001b[0m \u001b[38;5;28;01mfor\u001b[39;00m name \u001b[38;5;129;01min\u001b[39;00m \u001b[38;5;28mdir\u001b[39m(\u001b[43m_C\u001b[49m):\n\u001b[1;32m    250\u001b[0m     \u001b[38;5;28;01mif\u001b[39;00m name[\u001b[38;5;241m0\u001b[39m] \u001b[38;5;241m!=\u001b[39m \u001b[38;5;124m'\u001b[39m\u001b[38;5;124m_\u001b[39m\u001b[38;5;124m'\u001b[39m \u001b[38;5;129;01mand\u001b[39;00m \u001b[38;5;129;01mnot\u001b[39;00m name\u001b[38;5;241m.\u001b[39mendswith(\u001b[38;5;124m'\u001b[39m\u001b[38;5;124mBase\u001b[39m\u001b[38;5;124m'\u001b[39m):\n\u001b[1;32m    251\u001b[0m         __all__\u001b[38;5;241m.\u001b[39mappend(name)\n",
      "\u001b[0;31mNameError\u001b[0m: name '_C' is not defined"
     ]
    }
   ],
   "source": [
    "import torch"
   ]
  },
  {
   "cell_type": "code",
   "execution_count": 2,
   "metadata": {},
   "outputs": [
    {
     "data": {
      "text/plain": [
       "tensor([2., 5.])"
      ]
     },
     "execution_count": 2,
     "metadata": {},
     "output_type": "execute_result"
    }
   ],
   "source": [
    "import torch\n",
    "\n",
    "def mean_flat(tensor):\n",
    "    \"\"\"\n",
    "    Take the mean over all non-batch dimensions.\n",
    "    \"\"\"\n",
    "    return tensor.mean(dim=list(range(1, len(tensor.shape))))\n",
    "a = torch.tensor([[[[1,2,3]]],[[[4,5,6]]]],dtype=torch.float)\n",
    "mean_flat(a)"
   ]
  },
  {
   "cell_type": "code",
   "execution_count": 6,
   "metadata": {},
   "outputs": [
    {
     "data": {
      "text/plain": [
       "tensor([[[[ 25.,  25.,  25.,  25.],\n",
       "          [ 25.,  25.,  25.,  25.],\n",
       "          [ 25.,  25.,  25.,  25.],\n",
       "          [ 25.,  25.,  25.,  25.]],\n",
       "\n",
       "         [[ 25.,  25.,  25.,  25.],\n",
       "          [ 25.,  25.,  25.,  25.],\n",
       "          [ 25.,  25.,  25.,  25.],\n",
       "          [ 25.,  25.,  25.,  25.]]],\n",
       "\n",
       "\n",
       "        [[[ 64.,  64.,  64.,  64.],\n",
       "          [ 64.,  64.,  64.,  64.],\n",
       "          [ 64.,  64.,  64.,  64.],\n",
       "          [ 64.,  64.,  64.,  64.]],\n",
       "\n",
       "         [[ 64.,  64.,  64.,  64.],\n",
       "          [ 64.,  64.,  64.,  64.],\n",
       "          [ 64.,  64.,  64.,  64.],\n",
       "          [ 64.,  64.,  64.,  64.]]],\n",
       "\n",
       "\n",
       "        [[[100., 100., 100., 100.],\n",
       "          [100., 100., 100., 100.],\n",
       "          [100., 100., 100., 100.],\n",
       "          [100., 100., 100., 100.]],\n",
       "\n",
       "         [[100., 100., 100., 100.],\n",
       "          [100., 100., 100., 100.],\n",
       "          [100., 100., 100., 100.],\n",
       "          [100., 100., 100., 100.]]]])"
      ]
     },
     "execution_count": 6,
     "metadata": {},
     "output_type": "execute_result"
    }
   ],
   "source": [
    "import torch as th\n",
    "import numpy as np\n",
    "broadcast_shape =(3,2,4,4)\n",
    "arr = np.array([1,4,9,25,36,49,64,81,100])\n",
    "timesteps = [3,6,8]\n",
    "res = th.from_numpy(arr)[timesteps].float()\n",
    "while len(res.shape) < len(broadcast_shape):\n",
    "    res = res[..., None]\n",
    "res + th.zeros(broadcast_shape)"
   ]
  },
  {
   "cell_type": "code",
   "execution_count": 5,
   "metadata": {},
   "outputs": [
    {
     "name": "stdout",
     "output_type": "stream",
     "text": [
      "{'arun': tensor([[[[0.1176, 0.6893, 0.6119,  ..., 0.4597, 0.9448, 0.1053],\n",
      "          [0.6561, 0.3812, 0.4727,  ..., 0.4260, 0.7404, 0.0370],\n",
      "          [0.0885, 0.6857, 0.2714,  ..., 0.2565, 0.1975, 0.3912],\n",
      "          ...,\n",
      "          [0.6081, 0.7448, 0.8228,  ..., 0.1957, 0.3529, 0.9600],\n",
      "          [0.3280, 0.7077, 0.1382,  ..., 0.3807, 0.2672, 0.0781],\n",
      "          [0.7071, 0.7830, 0.0198,  ..., 0.6069, 0.4349, 0.5477]]]])}\n",
      "x:  torch.Size([1, 1, 512, 512])\n",
      "y:  torch.Size([3])\n"
     ]
    }
   ],
   "source": [
    "import torch as th\n",
    "\n",
    "x = th.rand(1,1,512,512)\n",
    "y = th.rand(1,1,512,512)\n",
    "model_kwargs = dict(arun=y)\n",
    "print(model_kwargs)\n",
    "\n",
    "def get_shape(x,y,arun):\n",
    "    print(\"x: \",x.shape)\n",
    "    print(\"y: \",y.shape)\n",
    "\n",
    "get_shape(x,th.tensor([1,2,3]),**model_kwargs)"
   ]
  },
  {
   "cell_type": "code",
   "execution_count": 6,
   "metadata": {},
   "outputs": [
    {
     "name": "stdout",
     "output_type": "stream",
     "text": [
      "2499950000\n",
      "   Ordered by: cumulative time\n",
      "   List reduced from 16 to 1 due to restriction <'is_prime'>\n",
      "\n",
      "Function                                    called...\n",
      "                                                ncalls  tottime  cumtime\n",
      "<ipython-input-6-9ac79316d2e4>:4(is_prime)  ->       1    0.000    0.000  {built-in method builtins.print}\n",
      "\n",
      "\n"
     ]
    },
    {
     "data": {
      "text/plain": [
       "<pstats.Stats at 0x7f71c4ee46a0>"
      ]
     },
     "execution_count": 6,
     "metadata": {},
     "output_type": "execute_result"
    }
   ],
   "source": [
    "import cProfile\n",
    "import pstats\n",
    "\n",
    "def is_prime():\n",
    "    s = 0\n",
    "    for i in range(100000):\n",
    "        if i % 2 == 0:\n",
    "            s += i\n",
    "    print(s)\n",
    "\n",
    "profiler = cProfile.Profile()\n",
    "profiler.runcall(is_prime)\n",
    "stats = pstats.Stats(profiler)\n",
    "stats.strip_dirs()\n",
    "stats.sort_stats('cumulative')\n",
    "\n",
    "# Print only the stats for your function\n",
    "stats.print_callees('is_prime')"
   ]
  },
  {
   "cell_type": "code",
   "execution_count": 10,
   "metadata": {},
   "outputs": [
    {
     "name": "stdout",
     "output_type": "stream",
     "text": [
      "166661666700000\n",
      "         50037 function calls in 0.035 seconds\n",
      "\n",
      "   Ordered by: cumulative time\n",
      "\n",
      "   ncalls  tottime  percall  cumtime  percall filename:lineno(function)\n",
      "        1    0.018    0.018    0.035    0.035 <ipython-input-10-42dd56e58909>:8(is_prime)\n",
      "    50000    0.017    0.000    0.017    0.000 <ipython-input-10-42dd56e58909>:5(square)\n",
      "        1    0.000    0.000    0.000    0.000 {built-in method builtins.print}\n",
      "        2    0.000    0.000    0.000    0.000 iostream.py:384(write)\n",
      "        3    0.000    0.000    0.000    0.000 iostream.py:195(schedule)\n",
      "        3    0.000    0.000    0.000    0.000 socket.py:342(send)\n",
      "        2    0.000    0.000    0.000    0.000 iostream.py:321(_schedule_flush)\n",
      "        3    0.000    0.000    0.000    0.000 threading.py:1071(is_alive)\n",
      "        3    0.000    0.000    0.000    0.000 threading.py:1017(_wait_for_tstate_lock)\n",
      "        2    0.000    0.000    0.000    0.000 iostream.py:308(_is_master_process)\n",
      "        3    0.000    0.000    0.000    0.000 {method 'acquire' of '_thread.lock' objects}\n",
      "        2    0.000    0.000    0.000    0.000 {built-in method posix.getpid}\n",
      "        3    0.000    0.000    0.000    0.000 iostream.py:91(_event_pipe)\n",
      "        3    0.000    0.000    0.000    0.000 threading.py:513(is_set)\n",
      "        3    0.000    0.000    0.000    0.000 {method 'append' of 'collections.deque' objects}\n",
      "        2    0.000    0.000    0.000    0.000 {built-in method builtins.isinstance}\n",
      "        1    0.000    0.000    0.000    0.000 {method 'disable' of '_lsprof.Profiler' objects}\n",
      "\n",
      "\n"
     ]
    },
    {
     "data": {
      "text/plain": [
       "<pstats.Stats at 0x7f71cc6367f0>"
      ]
     },
     "execution_count": 10,
     "metadata": {},
     "output_type": "execute_result"
    }
   ],
   "source": [
    "import cProfile\n",
    "import pstats\n",
    "import re\n",
    "\n",
    "def square(x):\n",
    "    return x ** 2\n",
    "\n",
    "def is_prime():\n",
    "    s = 0\n",
    "    for i in range(100000):\n",
    "        if i % 2 == 0:\n",
    "            s += square(i)\n",
    "\n",
    "    print(s)\n",
    "            \n",
    "profiler = cProfile.Profile()\n",
    "profiler.runcall(is_prime)\n",
    "\n",
    "stats = pstats.Stats(profiler)\n",
    "stats.strip_dirs()  # Remove the file path\n",
    "stats.sort_stats('cumulative')\n",
    "\n",
    "# Exclude lines containing '<built-in'\n",
    "stats.print_stats(lambda x: re.search(r'(<built-in|lib/python|dist-packages|site-packages)', x[1]) is None)"
   ]
  },
  {
   "cell_type": "code",
   "execution_count": 1,
   "metadata": {},
   "outputs": [
    {
     "name": "stdout",
     "output_type": "stream",
     "text": [
      "tensor([[[0.4119, 0.3200, 0.5959, 0.4846],\n",
      "         [0.9430, 0.1285, 0.8980, 0.3644],\n",
      "         [0.4885, 0.3542, 0.7639, 0.3828]],\n",
      "\n",
      "        [[0.2330, 0.6215, 0.2737, 0.9938],\n",
      "         [0.6177, 0.8595, 0.5595, 0.4538],\n",
      "         [0.0083, 0.5022, 0.7572, 0.9818]]])\n",
      "tensor([[[[0.2330, 0.6215, 0.2737, 0.9938],\n",
      "          [0.6177, 0.8595, 0.5595, 0.4538],\n",
      "          [0.0083, 0.5022, 0.7572, 0.9818]]]])\n"
     ]
    }
   ],
   "source": [
    "import torch\n",
    "a = torch.rand(2,3,4)\n",
    "print(a)\n",
    "c = a[-1:,...][None,...]\n",
    "print(c)"
   ]
  },
  {
   "cell_type": "code",
   "execution_count": 9,
   "metadata": {},
   "outputs": [
    {
     "data": {
      "image/svg+xml": [
       "<?xml version=\"1.0\" encoding=\"UTF-8\" standalone=\"no\"?>\n",
       "<!DOCTYPE svg PUBLIC \"-//W3C//DTD SVG 1.1//EN\"\n",
       " \"http://www.w3.org/Graphics/SVG/1.1/DTD/svg11.dtd\">\n",
       "<!-- Generated by graphviz version 2.44.0 (0)\n",
       " -->\n",
       "<!-- Title: model Pages: 1 -->\n",
       "<svg width=\"177pt\" height=\"864pt\"\n",
       " viewBox=\"0.00 0.00 177.10 864.00\" xmlns=\"http://www.w3.org/2000/svg\" xmlns:xlink=\"http://www.w3.org/1999/xlink\">\n",
       "<g id=\"graph0\" class=\"graph\" transform=\"scale(0.83 0.83) rotate(0) translate(4 1040)\">\n",
       "<title>model</title>\n",
       "<polygon fill=\"white\" stroke=\"transparent\" points=\"-4,4 -4,-1040 210,-1040 210,4 -4,4\"/>\n",
       "<!-- 0 -->\n",
       "<g id=\"node1\" class=\"node\">\n",
       "<title>0</title>\n",
       "<polygon fill=\"lightyellow\" stroke=\"transparent\" points=\"180,-1036 26,-1036 26,-1004 180,-1004 180,-1036\"/>\n",
       "<polygon fill=\"none\" stroke=\"black\" points=\"26,-1004 26,-1036 96,-1036 96,-1004 26,-1004\"/>\n",
       "<text text-anchor=\"start\" x=\"31\" y=\"-1023\" font-family=\"Linux libertine\" font-size=\"10.00\">input&#45;tensor</text>\n",
       "<text text-anchor=\"start\" x=\"42.5\" y=\"-1012\" font-family=\"Linux libertine\" font-size=\"10.00\">depth:0</text>\n",
       "<polygon fill=\"none\" stroke=\"black\" points=\"96,-1004 96,-1036 180,-1036 180,-1004 96,-1004\"/>\n",
       "<text text-anchor=\"start\" x=\"101\" y=\"-1017.5\" font-family=\"Linux libertine\" font-size=\"10.00\">(1, 3, 224, 224)</text>\n",
       "</g>\n",
       "<!-- 1 -->\n",
       "<g id=\"node2\" class=\"node\">\n",
       "<title>1</title>\n",
       "<polygon fill=\"#c1ffc1\" stroke=\"transparent\" points=\"194,-968 12,-968 12,-926 194,-926 194,-968\"/>\n",
       "<polygon fill=\"none\" stroke=\"black\" points=\"12,-926 12,-968 59,-968 59,-926 12,-926\"/>\n",
       "<text text-anchor=\"start\" x=\"17\" y=\"-950\" font-family=\"Linux libertine\" font-size=\"10.00\">Conv2d</text>\n",
       "<text text-anchor=\"start\" x=\"17\" y=\"-939\" font-family=\"Linux libertine\" font-size=\"10.00\">depth:1</text>\n",
       "<polygon fill=\"none\" stroke=\"black\" points=\"59,-947 59,-968 107,-968 107,-947 59,-947\"/>\n",
       "<text text-anchor=\"start\" x=\"69\" y=\"-955\" font-family=\"Linux libertine\" font-size=\"10.00\">input:</text>\n",
       "<polygon fill=\"none\" stroke=\"black\" points=\"107,-947 107,-968 194,-968 194,-947 107,-947\"/>\n",
       "<text text-anchor=\"start\" x=\"112\" y=\"-955\" font-family=\"Linux libertine\" font-size=\"10.00\">(1, 3, 224, 224) </text>\n",
       "<polygon fill=\"none\" stroke=\"black\" points=\"59,-926 59,-947 107,-947 107,-926 59,-926\"/>\n",
       "<text text-anchor=\"start\" x=\"64\" y=\"-934\" font-family=\"Linux libertine\" font-size=\"10.00\">output: </text>\n",
       "<polygon fill=\"none\" stroke=\"black\" points=\"107,-926 107,-947 194,-947 194,-926 107,-926\"/>\n",
       "<text text-anchor=\"start\" x=\"112\" y=\"-934\" font-family=\"Linux libertine\" font-size=\"10.00\">(1, 6, 220, 220) </text>\n",
       "</g>\n",
       "<!-- 0&#45;&gt;1 -->\n",
       "<g id=\"edge1\" class=\"edge\">\n",
       "<title>0&#45;&gt;1</title>\n",
       "<path fill=\"none\" stroke=\"black\" d=\"M103,-1003.94C103,-996.45 103,-987.12 103,-978.24\"/>\n",
       "<polygon fill=\"black\" stroke=\"black\" points=\"106.5,-978.16 103,-968.16 99.5,-978.16 106.5,-978.16\"/>\n",
       "</g>\n",
       "<!-- 2 -->\n",
       "<g id=\"node3\" class=\"node\">\n",
       "<title>2</title>\n",
       "<polygon fill=\"aliceblue\" stroke=\"transparent\" points=\"194,-890 12,-890 12,-848 194,-848 194,-890\"/>\n",
       "<polygon fill=\"none\" stroke=\"black\" points=\"12,-848 12,-890 59,-890 59,-848 12,-848\"/>\n",
       "<text text-anchor=\"start\" x=\"26\" y=\"-872\" font-family=\"Linux libertine\" font-size=\"10.00\">relu</text>\n",
       "<text text-anchor=\"start\" x=\"17\" y=\"-861\" font-family=\"Linux libertine\" font-size=\"10.00\">depth:1</text>\n",
       "<polygon fill=\"none\" stroke=\"black\" points=\"59,-869 59,-890 107,-890 107,-869 59,-869\"/>\n",
       "<text text-anchor=\"start\" x=\"69\" y=\"-877\" font-family=\"Linux libertine\" font-size=\"10.00\">input:</text>\n",
       "<polygon fill=\"none\" stroke=\"black\" points=\"107,-869 107,-890 194,-890 194,-869 107,-869\"/>\n",
       "<text text-anchor=\"start\" x=\"112\" y=\"-877\" font-family=\"Linux libertine\" font-size=\"10.00\">(1, 6, 220, 220) </text>\n",
       "<polygon fill=\"none\" stroke=\"black\" points=\"59,-848 59,-869 107,-869 107,-848 59,-848\"/>\n",
       "<text text-anchor=\"start\" x=\"64\" y=\"-856\" font-family=\"Linux libertine\" font-size=\"10.00\">output: </text>\n",
       "<polygon fill=\"none\" stroke=\"black\" points=\"107,-848 107,-869 194,-869 194,-848 107,-848\"/>\n",
       "<text text-anchor=\"start\" x=\"112\" y=\"-856\" font-family=\"Linux libertine\" font-size=\"10.00\">(1, 6, 220, 220) </text>\n",
       "</g>\n",
       "<!-- 1&#45;&gt;2 -->\n",
       "<g id=\"edge2\" class=\"edge\">\n",
       "<title>1&#45;&gt;2</title>\n",
       "<path fill=\"none\" stroke=\"black\" d=\"M103,-925.63C103,-917.82 103,-908.73 103,-900.18\"/>\n",
       "<polygon fill=\"black\" stroke=\"black\" points=\"106.5,-900.16 103,-890.16 99.5,-900.16 106.5,-900.16\"/>\n",
       "</g>\n",
       "<!-- 3 -->\n",
       "<g id=\"node4\" class=\"node\">\n",
       "<title>3</title>\n",
       "<polygon fill=\"#c1ffc1\" stroke=\"transparent\" points=\"203,-812 3,-812 3,-770 203,-770 203,-812\"/>\n",
       "<polygon fill=\"none\" stroke=\"black\" points=\"3,-770 3,-812 68,-812 68,-770 3,-770\"/>\n",
       "<text text-anchor=\"start\" x=\"8\" y=\"-794\" font-family=\"Linux libertine\" font-size=\"10.00\">MaxPool2d</text>\n",
       "<text text-anchor=\"start\" x=\"17\" y=\"-783\" font-family=\"Linux libertine\" font-size=\"10.00\">depth:1</text>\n",
       "<polygon fill=\"none\" stroke=\"black\" points=\"68,-791 68,-812 116,-812 116,-791 68,-791\"/>\n",
       "<text text-anchor=\"start\" x=\"78\" y=\"-799\" font-family=\"Linux libertine\" font-size=\"10.00\">input:</text>\n",
       "<polygon fill=\"none\" stroke=\"black\" points=\"116,-791 116,-812 203,-812 203,-791 116,-791\"/>\n",
       "<text text-anchor=\"start\" x=\"121\" y=\"-799\" font-family=\"Linux libertine\" font-size=\"10.00\">(1, 6, 220, 220) </text>\n",
       "<polygon fill=\"none\" stroke=\"black\" points=\"68,-770 68,-791 116,-791 116,-770 68,-770\"/>\n",
       "<text text-anchor=\"start\" x=\"73\" y=\"-778\" font-family=\"Linux libertine\" font-size=\"10.00\">output: </text>\n",
       "<polygon fill=\"none\" stroke=\"black\" points=\"116,-770 116,-791 203,-791 203,-770 116,-770\"/>\n",
       "<text text-anchor=\"start\" x=\"121\" y=\"-778\" font-family=\"Linux libertine\" font-size=\"10.00\">(1, 6, 110, 110) </text>\n",
       "</g>\n",
       "<!-- 2&#45;&gt;3 -->\n",
       "<g id=\"edge3\" class=\"edge\">\n",
       "<title>2&#45;&gt;3</title>\n",
       "<path fill=\"none\" stroke=\"black\" d=\"M103,-847.63C103,-839.82 103,-830.73 103,-822.18\"/>\n",
       "<polygon fill=\"black\" stroke=\"black\" points=\"106.5,-822.16 103,-812.16 99.5,-822.16 106.5,-822.16\"/>\n",
       "</g>\n",
       "<!-- 4 -->\n",
       "<g id=\"node5\" class=\"node\">\n",
       "<title>4</title>\n",
       "<polygon fill=\"#c1ffc1\" stroke=\"transparent\" points=\"197,-734 9,-734 9,-692 197,-692 197,-734\"/>\n",
       "<polygon fill=\"none\" stroke=\"black\" points=\"9,-692 9,-734 56,-734 56,-692 9,-692\"/>\n",
       "<text text-anchor=\"start\" x=\"14\" y=\"-716\" font-family=\"Linux libertine\" font-size=\"10.00\">Conv2d</text>\n",
       "<text text-anchor=\"start\" x=\"14\" y=\"-705\" font-family=\"Linux libertine\" font-size=\"10.00\">depth:1</text>\n",
       "<polygon fill=\"none\" stroke=\"black\" points=\"56,-713 56,-734 104,-734 104,-713 56,-713\"/>\n",
       "<text text-anchor=\"start\" x=\"66\" y=\"-721\" font-family=\"Linux libertine\" font-size=\"10.00\">input:</text>\n",
       "<polygon fill=\"none\" stroke=\"black\" points=\"104,-713 104,-734 197,-734 197,-713 104,-713\"/>\n",
       "<text text-anchor=\"start\" x=\"112\" y=\"-721\" font-family=\"Linux libertine\" font-size=\"10.00\">(1, 6, 110, 110) </text>\n",
       "<polygon fill=\"none\" stroke=\"black\" points=\"56,-692 56,-713 104,-713 104,-692 56,-692\"/>\n",
       "<text text-anchor=\"start\" x=\"61\" y=\"-700\" font-family=\"Linux libertine\" font-size=\"10.00\">output: </text>\n",
       "<polygon fill=\"none\" stroke=\"black\" points=\"104,-692 104,-713 197,-713 197,-692 104,-692\"/>\n",
       "<text text-anchor=\"start\" x=\"109\" y=\"-700\" font-family=\"Linux libertine\" font-size=\"10.00\">(1, 16, 106, 106) </text>\n",
       "</g>\n",
       "<!-- 3&#45;&gt;4 -->\n",
       "<g id=\"edge4\" class=\"edge\">\n",
       "<title>3&#45;&gt;4</title>\n",
       "<path fill=\"none\" stroke=\"black\" d=\"M103,-769.63C103,-761.82 103,-752.73 103,-744.18\"/>\n",
       "<polygon fill=\"black\" stroke=\"black\" points=\"106.5,-744.16 103,-734.16 99.5,-744.16 106.5,-744.16\"/>\n",
       "</g>\n",
       "<!-- 5 -->\n",
       "<g id=\"node6\" class=\"node\">\n",
       "<title>5</title>\n",
       "<polygon fill=\"aliceblue\" stroke=\"transparent\" points=\"197,-656 9,-656 9,-614 197,-614 197,-656\"/>\n",
       "<polygon fill=\"none\" stroke=\"black\" points=\"9,-614 9,-656 56,-656 56,-614 9,-614\"/>\n",
       "<text text-anchor=\"start\" x=\"23\" y=\"-638\" font-family=\"Linux libertine\" font-size=\"10.00\">relu</text>\n",
       "<text text-anchor=\"start\" x=\"14\" y=\"-627\" font-family=\"Linux libertine\" font-size=\"10.00\">depth:1</text>\n",
       "<polygon fill=\"none\" stroke=\"black\" points=\"56,-635 56,-656 104,-656 104,-635 56,-635\"/>\n",
       "<text text-anchor=\"start\" x=\"66\" y=\"-643\" font-family=\"Linux libertine\" font-size=\"10.00\">input:</text>\n",
       "<polygon fill=\"none\" stroke=\"black\" points=\"104,-635 104,-656 197,-656 197,-635 104,-635\"/>\n",
       "<text text-anchor=\"start\" x=\"109\" y=\"-643\" font-family=\"Linux libertine\" font-size=\"10.00\">(1, 16, 106, 106) </text>\n",
       "<polygon fill=\"none\" stroke=\"black\" points=\"56,-614 56,-635 104,-635 104,-614 56,-614\"/>\n",
       "<text text-anchor=\"start\" x=\"61\" y=\"-622\" font-family=\"Linux libertine\" font-size=\"10.00\">output: </text>\n",
       "<polygon fill=\"none\" stroke=\"black\" points=\"104,-614 104,-635 197,-635 197,-614 104,-614\"/>\n",
       "<text text-anchor=\"start\" x=\"109\" y=\"-622\" font-family=\"Linux libertine\" font-size=\"10.00\">(1, 16, 106, 106) </text>\n",
       "</g>\n",
       "<!-- 4&#45;&gt;5 -->\n",
       "<g id=\"edge5\" class=\"edge\">\n",
       "<title>4&#45;&gt;5</title>\n",
       "<path fill=\"none\" stroke=\"black\" d=\"M103,-691.63C103,-683.82 103,-674.73 103,-666.18\"/>\n",
       "<polygon fill=\"black\" stroke=\"black\" points=\"106.5,-666.16 103,-656.16 99.5,-666.16 106.5,-666.16\"/>\n",
       "</g>\n",
       "<!-- 6 -->\n",
       "<g id=\"node7\" class=\"node\">\n",
       "<title>6</title>\n",
       "<polygon fill=\"#c1ffc1\" stroke=\"transparent\" points=\"206,-578 0,-578 0,-536 206,-536 206,-578\"/>\n",
       "<polygon fill=\"none\" stroke=\"black\" points=\"0,-536 0,-578 65,-578 65,-536 0,-536\"/>\n",
       "<text text-anchor=\"start\" x=\"5\" y=\"-560\" font-family=\"Linux libertine\" font-size=\"10.00\">MaxPool2d</text>\n",
       "<text text-anchor=\"start\" x=\"14\" y=\"-549\" font-family=\"Linux libertine\" font-size=\"10.00\">depth:1</text>\n",
       "<polygon fill=\"none\" stroke=\"black\" points=\"65,-557 65,-578 113,-578 113,-557 65,-557\"/>\n",
       "<text text-anchor=\"start\" x=\"75\" y=\"-565\" font-family=\"Linux libertine\" font-size=\"10.00\">input:</text>\n",
       "<polygon fill=\"none\" stroke=\"black\" points=\"113,-557 113,-578 206,-578 206,-557 113,-557\"/>\n",
       "<text text-anchor=\"start\" x=\"118\" y=\"-565\" font-family=\"Linux libertine\" font-size=\"10.00\">(1, 16, 106, 106) </text>\n",
       "<polygon fill=\"none\" stroke=\"black\" points=\"65,-536 65,-557 113,-557 113,-536 65,-536\"/>\n",
       "<text text-anchor=\"start\" x=\"70\" y=\"-544\" font-family=\"Linux libertine\" font-size=\"10.00\">output: </text>\n",
       "<polygon fill=\"none\" stroke=\"black\" points=\"113,-536 113,-557 206,-557 206,-536 113,-536\"/>\n",
       "<text text-anchor=\"start\" x=\"124\" y=\"-544\" font-family=\"Linux libertine\" font-size=\"10.00\">(1, 16, 53, 53) </text>\n",
       "</g>\n",
       "<!-- 5&#45;&gt;6 -->\n",
       "<g id=\"edge6\" class=\"edge\">\n",
       "<title>5&#45;&gt;6</title>\n",
       "<path fill=\"none\" stroke=\"black\" d=\"M103,-613.63C103,-605.82 103,-596.73 103,-588.18\"/>\n",
       "<polygon fill=\"black\" stroke=\"black\" points=\"106.5,-588.16 103,-578.16 99.5,-588.16 106.5,-588.16\"/>\n",
       "</g>\n",
       "<!-- 7 -->\n",
       "<g id=\"node8\" class=\"node\">\n",
       "<title>7</title>\n",
       "<polygon fill=\"aliceblue\" stroke=\"transparent\" points=\"191,-500 15,-500 15,-458 191,-458 191,-500\"/>\n",
       "<polygon fill=\"none\" stroke=\"black\" points=\"15,-458 15,-500 62,-500 62,-458 15,-458\"/>\n",
       "<text text-anchor=\"start\" x=\"26.5\" y=\"-482\" font-family=\"Linux libertine\" font-size=\"10.00\">view</text>\n",
       "<text text-anchor=\"start\" x=\"20\" y=\"-471\" font-family=\"Linux libertine\" font-size=\"10.00\">depth:1</text>\n",
       "<polygon fill=\"none\" stroke=\"black\" points=\"62,-479 62,-500 110,-500 110,-479 62,-479\"/>\n",
       "<text text-anchor=\"start\" x=\"72\" y=\"-487\" font-family=\"Linux libertine\" font-size=\"10.00\">input:</text>\n",
       "<polygon fill=\"none\" stroke=\"black\" points=\"110,-479 110,-500 191,-500 191,-479 110,-479\"/>\n",
       "<text text-anchor=\"start\" x=\"115\" y=\"-487\" font-family=\"Linux libertine\" font-size=\"10.00\">(1, 16, 53, 53) </text>\n",
       "<polygon fill=\"none\" stroke=\"black\" points=\"62,-458 62,-479 110,-479 110,-458 62,-458\"/>\n",
       "<text text-anchor=\"start\" x=\"67\" y=\"-466\" font-family=\"Linux libertine\" font-size=\"10.00\">output: </text>\n",
       "<polygon fill=\"none\" stroke=\"black\" points=\"110,-458 110,-479 191,-479 191,-458 110,-458\"/>\n",
       "<text text-anchor=\"start\" x=\"124\" y=\"-466\" font-family=\"Linux libertine\" font-size=\"10.00\">(1, 44944) </text>\n",
       "</g>\n",
       "<!-- 6&#45;&gt;7 -->\n",
       "<g id=\"edge7\" class=\"edge\">\n",
       "<title>6&#45;&gt;7</title>\n",
       "<path fill=\"none\" stroke=\"black\" d=\"M103,-535.63C103,-527.82 103,-518.73 103,-510.18\"/>\n",
       "<polygon fill=\"black\" stroke=\"black\" points=\"106.5,-510.16 103,-500.16 99.5,-510.16 106.5,-510.16\"/>\n",
       "</g>\n",
       "<!-- 8 -->\n",
       "<g id=\"node9\" class=\"node\">\n",
       "<title>8</title>\n",
       "<polygon fill=\"#c1ffc1\" stroke=\"transparent\" points=\"182,-422 24,-422 24,-380 182,-380 182,-422\"/>\n",
       "<polygon fill=\"none\" stroke=\"black\" points=\"24,-380 24,-422 71,-422 71,-380 24,-380\"/>\n",
       "<text text-anchor=\"start\" x=\"32\" y=\"-404\" font-family=\"Linux libertine\" font-size=\"10.00\">Linear</text>\n",
       "<text text-anchor=\"start\" x=\"29\" y=\"-393\" font-family=\"Linux libertine\" font-size=\"10.00\">depth:1</text>\n",
       "<polygon fill=\"none\" stroke=\"black\" points=\"71,-401 71,-422 119,-422 119,-401 71,-401\"/>\n",
       "<text text-anchor=\"start\" x=\"81\" y=\"-409\" font-family=\"Linux libertine\" font-size=\"10.00\">input:</text>\n",
       "<polygon fill=\"none\" stroke=\"black\" points=\"119,-401 119,-422 182,-422 182,-401 119,-401\"/>\n",
       "<text text-anchor=\"start\" x=\"124\" y=\"-409\" font-family=\"Linux libertine\" font-size=\"10.00\">(1, 44944) </text>\n",
       "<polygon fill=\"none\" stroke=\"black\" points=\"71,-380 71,-401 119,-401 119,-380 71,-380\"/>\n",
       "<text text-anchor=\"start\" x=\"76\" y=\"-388\" font-family=\"Linux libertine\" font-size=\"10.00\">output: </text>\n",
       "<polygon fill=\"none\" stroke=\"black\" points=\"119,-380 119,-401 182,-401 182,-380 119,-380\"/>\n",
       "<text text-anchor=\"start\" x=\"130\" y=\"-388\" font-family=\"Linux libertine\" font-size=\"10.00\">(1, 120) </text>\n",
       "</g>\n",
       "<!-- 7&#45;&gt;8 -->\n",
       "<g id=\"edge8\" class=\"edge\">\n",
       "<title>7&#45;&gt;8</title>\n",
       "<path fill=\"none\" stroke=\"black\" d=\"M103,-457.63C103,-449.82 103,-440.73 103,-432.18\"/>\n",
       "<polygon fill=\"black\" stroke=\"black\" points=\"106.5,-432.16 103,-422.16 99.5,-432.16 106.5,-432.16\"/>\n",
       "</g>\n",
       "<!-- 9 -->\n",
       "<g id=\"node10\" class=\"node\">\n",
       "<title>9</title>\n",
       "<polygon fill=\"aliceblue\" stroke=\"transparent\" points=\"176,-344 30,-344 30,-302 176,-302 176,-344\"/>\n",
       "<polygon fill=\"none\" stroke=\"black\" points=\"30,-302 30,-344 77,-344 77,-302 30,-302\"/>\n",
       "<text text-anchor=\"start\" x=\"44\" y=\"-326\" font-family=\"Linux libertine\" font-size=\"10.00\">relu</text>\n",
       "<text text-anchor=\"start\" x=\"35\" y=\"-315\" font-family=\"Linux libertine\" font-size=\"10.00\">depth:1</text>\n",
       "<polygon fill=\"none\" stroke=\"black\" points=\"77,-323 77,-344 125,-344 125,-323 77,-323\"/>\n",
       "<text text-anchor=\"start\" x=\"87\" y=\"-331\" font-family=\"Linux libertine\" font-size=\"10.00\">input:</text>\n",
       "<polygon fill=\"none\" stroke=\"black\" points=\"125,-323 125,-344 176,-344 176,-323 125,-323\"/>\n",
       "<text text-anchor=\"start\" x=\"130\" y=\"-331\" font-family=\"Linux libertine\" font-size=\"10.00\">(1, 120) </text>\n",
       "<polygon fill=\"none\" stroke=\"black\" points=\"77,-302 77,-323 125,-323 125,-302 77,-302\"/>\n",
       "<text text-anchor=\"start\" x=\"82\" y=\"-310\" font-family=\"Linux libertine\" font-size=\"10.00\">output: </text>\n",
       "<polygon fill=\"none\" stroke=\"black\" points=\"125,-302 125,-323 176,-323 176,-302 125,-302\"/>\n",
       "<text text-anchor=\"start\" x=\"130\" y=\"-310\" font-family=\"Linux libertine\" font-size=\"10.00\">(1, 120) </text>\n",
       "</g>\n",
       "<!-- 8&#45;&gt;9 -->\n",
       "<g id=\"edge9\" class=\"edge\">\n",
       "<title>8&#45;&gt;9</title>\n",
       "<path fill=\"none\" stroke=\"black\" d=\"M103,-379.63C103,-371.82 103,-362.73 103,-354.18\"/>\n",
       "<polygon fill=\"black\" stroke=\"black\" points=\"106.5,-354.16 103,-344.16 99.5,-354.16 106.5,-354.16\"/>\n",
       "</g>\n",
       "<!-- 10 -->\n",
       "<g id=\"node11\" class=\"node\">\n",
       "<title>10</title>\n",
       "<polygon fill=\"#c1ffc1\" stroke=\"transparent\" points=\"176,-266 30,-266 30,-224 176,-224 176,-266\"/>\n",
       "<polygon fill=\"none\" stroke=\"black\" points=\"30,-224 30,-266 77,-266 77,-224 30,-224\"/>\n",
       "<text text-anchor=\"start\" x=\"38\" y=\"-248\" font-family=\"Linux libertine\" font-size=\"10.00\">Linear</text>\n",
       "<text text-anchor=\"start\" x=\"35\" y=\"-237\" font-family=\"Linux libertine\" font-size=\"10.00\">depth:1</text>\n",
       "<polygon fill=\"none\" stroke=\"black\" points=\"77,-245 77,-266 125,-266 125,-245 77,-245\"/>\n",
       "<text text-anchor=\"start\" x=\"87\" y=\"-253\" font-family=\"Linux libertine\" font-size=\"10.00\">input:</text>\n",
       "<polygon fill=\"none\" stroke=\"black\" points=\"125,-245 125,-266 176,-266 176,-245 125,-245\"/>\n",
       "<text text-anchor=\"start\" x=\"130\" y=\"-253\" font-family=\"Linux libertine\" font-size=\"10.00\">(1, 120) </text>\n",
       "<polygon fill=\"none\" stroke=\"black\" points=\"77,-224 77,-245 125,-245 125,-224 77,-224\"/>\n",
       "<text text-anchor=\"start\" x=\"82\" y=\"-232\" font-family=\"Linux libertine\" font-size=\"10.00\">output: </text>\n",
       "<polygon fill=\"none\" stroke=\"black\" points=\"125,-224 125,-245 176,-245 176,-224 125,-224\"/>\n",
       "<text text-anchor=\"start\" x=\"133\" y=\"-232\" font-family=\"Linux libertine\" font-size=\"10.00\">(1, 84) </text>\n",
       "</g>\n",
       "<!-- 9&#45;&gt;10 -->\n",
       "<g id=\"edge10\" class=\"edge\">\n",
       "<title>9&#45;&gt;10</title>\n",
       "<path fill=\"none\" stroke=\"black\" d=\"M103,-301.63C103,-293.82 103,-284.73 103,-276.18\"/>\n",
       "<polygon fill=\"black\" stroke=\"black\" points=\"106.5,-276.16 103,-266.16 99.5,-276.16 106.5,-276.16\"/>\n",
       "</g>\n",
       "<!-- 11 -->\n",
       "<g id=\"node12\" class=\"node\">\n",
       "<title>11</title>\n",
       "<polygon fill=\"aliceblue\" stroke=\"transparent\" points=\"173,-188 33,-188 33,-146 173,-146 173,-188\"/>\n",
       "<polygon fill=\"none\" stroke=\"black\" points=\"33,-146 33,-188 80,-188 80,-146 33,-146\"/>\n",
       "<text text-anchor=\"start\" x=\"47\" y=\"-170\" font-family=\"Linux libertine\" font-size=\"10.00\">relu</text>\n",
       "<text text-anchor=\"start\" x=\"38\" y=\"-159\" font-family=\"Linux libertine\" font-size=\"10.00\">depth:1</text>\n",
       "<polygon fill=\"none\" stroke=\"black\" points=\"80,-167 80,-188 128,-188 128,-167 80,-167\"/>\n",
       "<text text-anchor=\"start\" x=\"90\" y=\"-175\" font-family=\"Linux libertine\" font-size=\"10.00\">input:</text>\n",
       "<polygon fill=\"none\" stroke=\"black\" points=\"128,-167 128,-188 173,-188 173,-167 128,-167\"/>\n",
       "<text text-anchor=\"start\" x=\"133\" y=\"-175\" font-family=\"Linux libertine\" font-size=\"10.00\">(1, 84) </text>\n",
       "<polygon fill=\"none\" stroke=\"black\" points=\"80,-146 80,-167 128,-167 128,-146 80,-146\"/>\n",
       "<text text-anchor=\"start\" x=\"85\" y=\"-154\" font-family=\"Linux libertine\" font-size=\"10.00\">output: </text>\n",
       "<polygon fill=\"none\" stroke=\"black\" points=\"128,-146 128,-167 173,-167 173,-146 128,-146\"/>\n",
       "<text text-anchor=\"start\" x=\"133\" y=\"-154\" font-family=\"Linux libertine\" font-size=\"10.00\">(1, 84) </text>\n",
       "</g>\n",
       "<!-- 10&#45;&gt;11 -->\n",
       "<g id=\"edge11\" class=\"edge\">\n",
       "<title>10&#45;&gt;11</title>\n",
       "<path fill=\"none\" stroke=\"black\" d=\"M103,-223.63C103,-215.82 103,-206.73 103,-198.18\"/>\n",
       "<polygon fill=\"black\" stroke=\"black\" points=\"106.5,-198.16 103,-188.16 99.5,-198.16 106.5,-198.16\"/>\n",
       "</g>\n",
       "<!-- 12 -->\n",
       "<g id=\"node13\" class=\"node\">\n",
       "<title>12</title>\n",
       "<polygon fill=\"#c1ffc1\" stroke=\"transparent\" points=\"173,-110 33,-110 33,-68 173,-68 173,-110\"/>\n",
       "<polygon fill=\"none\" stroke=\"black\" points=\"33,-68 33,-110 80,-110 80,-68 33,-68\"/>\n",
       "<text text-anchor=\"start\" x=\"41\" y=\"-92\" font-family=\"Linux libertine\" font-size=\"10.00\">Linear</text>\n",
       "<text text-anchor=\"start\" x=\"38\" y=\"-81\" font-family=\"Linux libertine\" font-size=\"10.00\">depth:1</text>\n",
       "<polygon fill=\"none\" stroke=\"black\" points=\"80,-89 80,-110 128,-110 128,-89 80,-89\"/>\n",
       "<text text-anchor=\"start\" x=\"90\" y=\"-97\" font-family=\"Linux libertine\" font-size=\"10.00\">input:</text>\n",
       "<polygon fill=\"none\" stroke=\"black\" points=\"128,-89 128,-110 173,-110 173,-89 128,-89\"/>\n",
       "<text text-anchor=\"start\" x=\"133\" y=\"-97\" font-family=\"Linux libertine\" font-size=\"10.00\">(1, 84) </text>\n",
       "<polygon fill=\"none\" stroke=\"black\" points=\"80,-68 80,-89 128,-89 128,-68 80,-68\"/>\n",
       "<text text-anchor=\"start\" x=\"85\" y=\"-76\" font-family=\"Linux libertine\" font-size=\"10.00\">output: </text>\n",
       "<polygon fill=\"none\" stroke=\"black\" points=\"128,-68 128,-89 173,-89 173,-68 128,-68\"/>\n",
       "<text text-anchor=\"start\" x=\"133\" y=\"-76\" font-family=\"Linux libertine\" font-size=\"10.00\">(1, 10) </text>\n",
       "</g>\n",
       "<!-- 11&#45;&gt;12 -->\n",
       "<g id=\"edge12\" class=\"edge\">\n",
       "<title>11&#45;&gt;12</title>\n",
       "<path fill=\"none\" stroke=\"black\" d=\"M103,-145.63C103,-137.82 103,-128.73 103,-120.18\"/>\n",
       "<polygon fill=\"black\" stroke=\"black\" points=\"106.5,-120.16 103,-110.16 99.5,-120.16 106.5,-120.16\"/>\n",
       "</g>\n",
       "<!-- 13 -->\n",
       "<g id=\"node14\" class=\"node\">\n",
       "<title>13</title>\n",
       "<polygon fill=\"lightyellow\" stroke=\"transparent\" points=\"162.5,-32 43.5,-32 43.5,0 162.5,0 162.5,-32\"/>\n",
       "<polygon fill=\"none\" stroke=\"black\" points=\"44,0 44,-32 121,-32 121,0 44,0\"/>\n",
       "<text text-anchor=\"start\" x=\"49\" y=\"-19\" font-family=\"Linux libertine\" font-size=\"10.00\">output&#45;tensor</text>\n",
       "<text text-anchor=\"start\" x=\"64\" y=\"-8\" font-family=\"Linux libertine\" font-size=\"10.00\">depth:0</text>\n",
       "<polygon fill=\"none\" stroke=\"black\" points=\"121,0 121,-32 163,-32 163,0 121,0\"/>\n",
       "<text text-anchor=\"start\" x=\"126\" y=\"-13.5\" font-family=\"Linux libertine\" font-size=\"10.00\">(1, 10)</text>\n",
       "</g>\n",
       "<!-- 12&#45;&gt;13 -->\n",
       "<g id=\"edge13\" class=\"edge\">\n",
       "<title>12&#45;&gt;13</title>\n",
       "<path fill=\"none\" stroke=\"black\" d=\"M103,-67.84C103,-59.89 103,-50.66 103,-42.26\"/>\n",
       "<polygon fill=\"black\" stroke=\"black\" points=\"106.5,-42.24 103,-32.24 99.5,-42.24 106.5,-42.24\"/>\n",
       "</g>\n",
       "</g>\n",
       "</svg>\n"
      ],
      "text/plain": [
       "<graphviz.graphs.Digraph at 0x7f9f60264d60>"
      ]
     },
     "execution_count": 9,
     "metadata": {},
     "output_type": "execute_result"
    }
   ],
   "source": [
    "import torch\n",
    "from torchviz import make_dot\n",
    "import torch.nn as nn \n",
    "import torch.nn.functional as F\n",
    "\n",
    "class model(nn.Module):\n",
    "    def __init__(self):\n",
    "        super(model,self).__init__()\n",
    "        self.conv1 = nn.Conv2d(3, 6, 5)\n",
    "        self.pool = nn.MaxPool2d(2, 2)\n",
    "        self.conv2 = nn.Conv2d(6, 16, 5)\n",
    "        # Adjusted the input size for fc1 according to the new calculation\n",
    "        self.fc1 = nn.Linear(16 * 53 * 53, 120)  # Adjusted size\n",
    "        self.fc2 = nn.Linear(120, 84)\n",
    "        self.fc3 = nn.Linear(84, 10)\n",
    "\n",
    "    def forward(self, x):\n",
    "        x = self.pool(F.relu(self.conv1(x)))\n",
    "        x = self.pool(F.relu(self.conv2(x)))\n",
    "        # Adjust the view to match the new size\n",
    "        x = x.view(-1, 16 * 53 * 53)  # Adjusted size\n",
    "        x = F.relu(self.fc1(x))\n",
    "        x = F.relu(self.fc2(x))\n",
    "        x = self.fc3(x)\n",
    "        return x\n",
    "m = model()  \n",
    "\n",
    "from torchview import draw_graph\n",
    "\n",
    "batch_size = 2\n",
    "# device='meta' -> no memory is consumed for visualization\n",
    "model_graph = draw_graph(m, input_size=(1, 3, 224, 224) , device='meta')\n",
    "model_graph.visual_graph\n",
    "# dummy_input = torch.randn(1, 3, 224, 224)  # Example for an input size, adjust according to your model\n",
    "# output = m(dummy_input)\n",
    "\n",
    "# Visualize the graph\n",
    "# graph = make_dot(output, params=dict(m.named_parameters()))\n",
    "# graph.render(\"model_graph\", format=\"png\")  # This saves the graph as a PNG image. You can also use 'pdf' for PDF format."
   ]
  },
  {
   "cell_type": "code",
   "execution_count": 1,
   "metadata": {},
   "outputs": [
    {
     "name": "stdout",
     "output_type": "stream",
     "text": [
      "Input Tensor Shape: torch.Size([2, 8, 5, 5])\n",
      "Normalized Output Shape: torch.Size([2, 8, 5, 5])\n"
     ]
    }
   ],
   "source": [
    "import torch\n",
    "import torch.nn as nn\n",
    "\n",
    "# Define a simple GroupNorm layer\n",
    "# Assume we have 8 channels in total and we want to group them into 4 groups\n",
    "# This means each group will contain 2 channels\n",
    "group_norm = nn.GroupNorm(num_groups=4, num_channels=8)\n",
    "\n",
    "# Create a dummy input tensor\n",
    "# Let's say our batch size is 2, with 8 channels, and spatial dimensions of height and width being 5x5\n",
    "# The shape of the input tensor is [batch_size, channels, height, width]\n",
    "input_tensor = torch.randn(2, 8, 5, 5)\n",
    "\n",
    "# Apply Group Normalization\n",
    "normalized_output = group_norm(input_tensor)\n",
    "\n",
    "print(\"Input Tensor Shape:\", input_tensor.shape)\n",
    "print(\"Normalized Output Shape:\", normalized_output.shape)"
   ]
  },
  {
   "cell_type": "code",
   "execution_count": 11,
   "metadata": {},
   "outputs": [
    {
     "name": "stdout",
     "output_type": "stream",
     "text": [
      "  MyModel.conv1.Conv2d | Input Size: torch.Size([1, 1, 28, 28]) | Output Size: torch.Size([1, 32, 26, 26])\n",
      "  MyModel.conv2.Conv2d | Input Size: torch.Size([1, 32, 26, 26]) | Output Size: torch.Size([1, 64, 24, 24])\n",
      "  MyModel.fc1.Linear | Input Size: torch.Size([1, 36864]) | Output Size: torch.Size([1, 128])\n",
      "  MyModel.fc2.Linear | Input Size: torch.Size([1, 128]) | Output Size: torch.Size([1, 10])\n",
      "    MyModel.k.news.fc1.Linear | Input Size: torch.Size([1, 10]) | Output Size: torch.Size([1, 128])\n",
      "    MyModel.k.news.fc2.Linear | Input Size: torch.Size([1, 128]) | Output Size: torch.Size([1, 10])\n"
     ]
    }
   ],
   "source": [
    "import torch\n",
    "import torch.nn as nn\n",
    "\n",
    "class news(nn.Module):\n",
    "    def __init__(self):\n",
    "        super().__init__()\n",
    "        self.fc1 = nn.Linear(10,128)\n",
    "        self.fc2 = nn.Linear(128, 10)\n",
    "    def forward(self, x):\n",
    "        x = torch.relu(self.fc1(x))\n",
    "        x = self.fc2(x)\n",
    "        return x\n",
    "\n",
    "class MyModel(nn.Module):\n",
    "    def __init__(self):\n",
    "        super(MyModel, self).__init__()\n",
    "        self.conv1 = nn.Conv2d(1, 32, kernel_size=3)\n",
    "        self.conv2 = nn.Conv2d(32, 64, kernel_size=3)\n",
    "        self.fc1 = nn.Linear(64 * 24 * 24, 128)\n",
    "        self.fc2 = nn.Linear(128, 10)\n",
    "        self.k = news()\n",
    "\n",
    "    def forward(self, x):\n",
    "        x = torch.relu(self.conv1(x))\n",
    "        x = torch.relu(self.conv2(x))\n",
    "        x = torch.flatten(x, 1)\n",
    "        x = torch.relu(self.fc1(x))\n",
    "        x = self.fc2(x)\n",
    "        x = self.k(x)\n",
    "\n",
    "        return x\n",
    "\n",
    "layer_info = []\n",
    "\n",
    "def print_layer_info(module, input, output):\n",
    "    module_name = module.__name__\n",
    "    input_size = input[0].size() if isinstance(input, tuple) else input.size()\n",
    "    output_size = output.size()\n",
    "    indent = \" \" * (module.__depth__ * 2)\n",
    "    layer_info.append(f\"{indent}{module_name} | Input Size: {input_size} | Output Size: {output_size}\")\n",
    "    print(layer_info[-1])\n",
    "\n",
    "\n",
    "def register_hooks(module, parent_name=\"\",depth=0):\n",
    "    module_name = parent_name + ('.' if parent_name else '') + (module.__class__.__name__)\n",
    "    module.__name__ = module_name\n",
    "    module.__depth__ = depth    \n",
    "    \n",
    "    if not list(module.children()):  \n",
    "        module.register_forward_hook(print_layer_info)\n",
    "\n",
    "    named_modules = {m for _, m in module.named_children()}\n",
    "    for n in module.children():\n",
    "        if n not in named_modules:\n",
    "          print(\"unnamed module detected\")\n",
    "    \n",
    "    for name, child in module.named_children():\n",
    "        child_name = module_name + ('.' if module_name else '') + name\n",
    "        register_hooks(child, child_name,depth + 1)\n",
    "\n",
    "\n",
    "register_hooks(model, model.__class__.__name__)\n",
    "\n",
    "model = MyModel()\n",
    "register_hooks(model)\n",
    "\n",
    "x = torch.randn(1, 1, 28, 28)\n",
    "\n",
    "output = model(x)\n",
    "\n"
   ]
  },
  {
   "cell_type": "code",
   "execution_count": 1,
   "metadata": {},
   "outputs": [
    {
     "name": "stdout",
     "output_type": "stream",
     "text": [
      "Original shape: torch.Size([2, 3, 4, 5])\n",
      "Shape after flatten(2): torch.Size([2, 3, 20])\n"
     ]
    }
   ],
   "source": [
    "import torch\n",
    "\n",
    "# Create a tensor of shape [2, 3, 4, 5]\n",
    "# This could represent a batch of 2 images, with 3 channels, height of 4, and width of 5\n",
    "x = torch.arange(2*3*4*5).reshape(2, 3, 4, 5)\n",
    "\n",
    "print(x)\n",
    "print(\"Original shape:\", x.shape)\n",
    "# Output: Original shape: torch.Size([2, 3, 4, 5])\n",
    "\n",
    "# Flatten starting from the 3rd dimension\n",
    "flattened_x = x.flatten(2)\n",
    "\n",
    "print(flattened_x)\n",
    "print(\"Shape after flatten(2):\", flattened_x.shape)\n",
    "# Output: Shape after flatten(2): torch.Size([2, 3, 20])"
   ]
  },
  {
   "cell_type": "code",
   "execution_count": 9,
   "metadata": {},
   "outputs": [
    {
     "name": "stdout",
     "output_type": "stream",
     "text": [
      "{'data_name': 'BRATS', 'data_dir': '../dataset/brats2020/training', 'schedule_sampler': 'uniform', 'lr': '1e-4', 'weight_decay': 0.0, 'lr_anneal_steps': 0, 'batch_size': 1, 'microbatch': -1, 'ema_rate': '0.9999', 'log_interval': 100, 'save_interval': 5000, 'resume_checkpoint': 'None', 'use_fp16': False, 'fp16_scale_growth': '1e-3', 'gpu_dev': '0', 'multi_gpu': 'None', 'out_dir': './results/', 'image_size': 64, 'num_channels': 128, 'num_res_blocks': 2, 'num_heads': 4, 'in_ch': 5, 'num_heads_upsample': -1, 'num_head_channels': -1, 'attention_resolutions': '16,8', 'channel_mult': '', 'dropout': 0.0, 'class_cond': False, 'use_checkpoint': False, 'use_scale_shift_norm': True, 'resblock_updown': False, 'use_new_attention_order': False, 'dpm_solver': False, 'version': 'new', 'learn_sigma': False, 'diffusion_steps': 1000, 'noise_schedule': 'linear', 'timestep_respacing': '', 'use_kl': False, 'predict_xstart': False, 'rescale_timesteps': False, 'rescale_learned_sigmas': False}\n"
     ]
    }
   ],
   "source": [
    "\n",
    "import yaml\n",
    "\n",
    "yaml_file_path = \"/cluster/home/austinen/NTNU/SSD/MedSegDiff/info/arguments.yaml\"\n",
    "\n",
    "with open(yaml_file_path, 'r') as file:\n",
    "    data = yaml.safe_load(file)\n",
    "\n",
    "defaults = data['train']  \n",
    "defaults.update(data['model'])\n",
    "defaults.update(data['diffusion'])\n",
    "print(defaults)"
   ]
  }
 ],
 "metadata": {
  "kernelspec": {
   "display_name": "DiT",
   "language": "python",
   "name": "python3"
  },
  "language_info": {
   "codemirror_mode": {
    "name": "ipython",
    "version": 3
   },
   "file_extension": ".py",
   "mimetype": "text/x-python",
   "name": "python",
   "nbconvert_exporter": "python",
   "pygments_lexer": "ipython3",
   "version": "3.8.19"
  }
 },
 "nbformat": 4,
 "nbformat_minor": 2
}
